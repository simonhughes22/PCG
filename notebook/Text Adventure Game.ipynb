{
 "cells": [
  {
   "cell_type": "code",
   "execution_count": 1,
   "metadata": {},
   "outputs": [],
   "source": [
    "from dataclasses import dataclass\n",
    "from typing import Any, List"
   ]
  },
  {
   "cell_type": "markdown",
   "metadata": {},
   "source": [
    "# Utils"
   ]
  },
  {
   "cell_type": "code",
   "execution_count": 2,
   "metadata": {},
   "outputs": [],
   "source": [
    "def get_members(cls):\n",
    "    return set([att for att in dir(cls) if not att.startswith(\"_\")])\n",
    "\n",
    "def get_values(cls):\n",
    "    temp = [getattr(cls, att) for att in dir(cls) if not att.startswith(\"_\")]\n",
    "    vals = set()\n",
    "    for item in temp:\n",
    "        if type(item) in (int,float,str):\n",
    "            vals.add(item)\n",
    "        elif type(item) in (set,List,tuple):\n",
    "            for i in item:\n",
    "                vals.add(i)\n",
    "    return vals\n",
    "\n",
    "def add_meta_data(cls):\n",
    "    cls.Members = get_members(cls)\n",
    "    cls.Values  = get_values(cls)\n",
    "                \n",
    "def to_tuples(items):\n",
    "    tuples = set()\n",
    "    for item in items:\n",
    "        tpl = tuple(StringUtils.clean(item).split(\" \"))\n",
    "        tuples.add(tpl)\n",
    "    return tuples\n",
    "    \n",
    "class Singleton(object):\n",
    "    __instance = None\n",
    "    def __new__(cls, *args):\n",
    "        if cls.__instance is None:\n",
    "            cls.__instance = object.__new__(cls, *args)\n",
    "        return cls.__instance\n",
    "\n",
    "class StringUtils(object):\n",
    "    \n",
    "    @staticmethod\n",
    "    def init_caps(s):\n",
    "        return s[0].upper() + s[1:]\n",
    "    \n",
    "    @staticmethod\n",
    "    def clean(s):\n",
    "        if not s:\n",
    "            return \"\"\n",
    "        return str(s).replace(\"-\",\" \").strip().lower()"
   ]
  },
  {
   "cell_type": "markdown",
   "metadata": {},
   "source": [
    "# Enum"
   ]
  },
  {
   "cell_type": "code",
   "execution_count": 4,
   "metadata": {},
   "outputs": [],
   "source": [
    "class CompassEnum(Singleton):\n",
    "    North = \"north\"\n",
    "    South = \"south\"\n",
    "    East  = \"east\"\n",
    "    West  = \"west\"\n",
    "    \n",
    "class VerticalEnum(Singleton):\n",
    "    Above = \"above\"\n",
    "    Below = \"below\"\n",
    "        \n",
    "class SpecialCommandsEnum(object):\n",
    "    Describe = to_tuples({\"describe\"})\n",
    "    Quit     = to_tuples({\"quit\",\"exit\"})\n",
    "    Help     = to_tuples({\"help\",\"h\",\"?\"})\n",
    "    \n",
    "class VerbEnum(Singleton):\n",
    "    Move   = to_tuples({\"move\", \"go\"})\n",
    "    PickUp = to_tuples({\"get\", \"pick up\"})\n",
    "    Up     = to_tuples({\"up\", \"go up\", \"climb\", \"climb up\"})\n",
    "    Down   = to_tuples({\"down\", \"go down\", \"climb down\"})\n",
    "    \n",
    "add_meta_data(CompassEnum)\n",
    "add_meta_data(SpecialCommandsEnum)\n",
    "add_meta_data(VerticalEnum)\n",
    "add_meta_data(VerbEnum)"
   ]
  },
  {
   "cell_type": "markdown",
   "metadata": {},
   "source": [
    "# Entities"
   ]
  },
  {
   "cell_type": "code",
   "execution_count": 5,
   "metadata": {
    "jupyter": {
     "source_hidden": true
    },
    "tags": []
   },
   "outputs": [],
   "source": [
    "@dataclass\n",
    "class Item(object):\n",
    "    name: str = \"\"\n",
    "        \n",
    "    def __repr__(self):\n",
    "        return self.name\n",
    "\n",
    "@dataclass\n",
    "class Location(object):\n",
    "    desc: str = \"A room\"\n",
    "    name: str = \"\"\n",
    "    \n",
    "    north: Any = None\n",
    "    south: Any = None\n",
    "    east:  Any = None\n",
    "    west:  Any = None\n",
    "\n",
    "    above: Any = None\n",
    "    below: Any = None\n",
    "        \n",
    "    def add_north(self, locn):\n",
    "        self.north = locn\n",
    "        locn.south = self\n",
    "        \n",
    "    def add_south(self, locn):\n",
    "        self.south = locn\n",
    "        locn.north = self\n",
    "        \n",
    "    def add_east(self, locn):\n",
    "        self.east = locn\n",
    "        locn.west = self\n",
    "        \n",
    "    def add_west(self, locn):\n",
    "        self.west = locn\n",
    "        locn.east = self\n",
    "        \n",
    "    def __post_init__(self):\n",
    "        self.desc = self.desc.strip()\n",
    "        self.name = self.name.strip()\n",
    "        \n",
    "        self.items: List[Any]     = []       \n",
    "            \n",
    "    def get_locations(self):\n",
    "        locations: List[Any] = []\n",
    "        if self.north:\n",
    "            locations.append(CompassEnum.North)\n",
    "        if self.south:\n",
    "            locations.append(CompassEnum.South)\n",
    "        if self.west:\n",
    "            locations.append(CompassEnum.West)\n",
    "        if self.east:\n",
    "            locations.append(CompassEnum.East)\n",
    "        if self.above:\n",
    "            locations.append(VerticalEnum.Above)\n",
    "        if self.below:\n",
    "            locations.append(VerticalEnum.Below)\n",
    "        return locations\n",
    "        \n",
    "    def describe(self):\n",
    "        out(self.desc)\n",
    "        s = \"\"\n",
    "        for name in self.get_locations():\n",
    "            locn = getattr(self,name)\n",
    "            if name in CompassEnum.Values:\n",
    "                s += f\"{StringUtils.init_caps(name)} is a {locn.name}. \"\n",
    "            elif name in CompassEnum.Values:\n",
    "                s += f\"To the {name} is a {locn.name}. \"\n",
    "            else:\n",
    "                raise Exception(f\"Unknown location name: {name}\")\n",
    "        if s:\n",
    "            out(\"\")\n",
    "            out(s)        \n",
    "        out(\"\")\n",
    "        if len(self.items) > 0:\n",
    "            if len(self.items) == 1:\n",
    "                str_items = f\"a {self.items[0]}\"\n",
    "            elif len(self.items) > 1:                \n",
    "                str_items = \", \".join([f\"a {i}\" for i in self.items[:-1]])\n",
    "                str_items += f\" and a {self.items[-1]}\"\n",
    "            out(f\"In the {self.name} you find {str_items}.\")"
   ]
  },
  {
   "cell_type": "markdown",
   "metadata": {},
   "source": [
    "# Parser"
   ]
  },
  {
   "cell_type": "code",
   "execution_count": 9,
   "metadata": {},
   "outputs": [],
   "source": [
    "class Parser(Singleton):\n",
    "    StopWords = set(\"a,an,the\".split(\",\"))\n",
    "    \n",
    "    @classmethod\n",
    "    def parse(s):\n",
    "        tokens = [t for t in StringUtils.clean(s).split(\" \") \n",
    "                  if t not in Parser.StopWords]\n",
    "        \n",
    "        if not tokens:\n",
    "            return False\n",
    "        \n",
    "        if len(tokens) == 1:\n",
    "            action = tokens[0]\n",
    "            if action in SpecialCommandsEnum.Describe:\n",
    "                pass\n",
    "            elif action in SpecialCommandsEnum.Help:\n",
    "                out(\"Help requested\")\n",
    "            elif action == SpecialCommandsEnum.Quit:\n",
    "                out(\"Quiting...\")\n",
    "                return False\n",
    "        else:\n",
    "            pass\n",
    "        return True"
   ]
  },
  {
   "cell_type": "markdown",
   "metadata": {},
   "source": [
    "# Game State"
   ]
  },
  {
   "cell_type": "code",
   "execution_count": null,
   "metadata": {},
   "outputs": [],
   "source": [
    "@dataclass\n",
    "class Player(Singleton):    \n",
    "    hp: int         = 100\n",
    "    is_alive: bool  = True\n",
    "        \n",
    "input_list = []\n",
    "def pop_from_list(s):\n",
    "    global input_list\n",
    "    if input_list:\n",
    "        item = input_list[0]\n",
    "        input_list = input_list[1:]\n",
    "        print(item)\n",
    "        return item\n",
    "    # print(\"Input exhausted\")\n",
    "    return None\n",
    "        \n",
    "out = lambda s: print(s)\n",
    "# inpt = lambda s: input(s)\n",
    "inpt = pop_from_list\n",
    "\n",
    "class Game(Singleton):\n",
    "            \n",
    "    def __init__(self):\n",
    "        self.hp = 100\n",
    "        self.player = Player()\n",
    "        self.loop_num = 0\n",
    "        self.location = None\n",
    "        self.inventory = set()\n",
    "        self.visited = set()\n",
    "        \n",
    "    def run(self, location):\n",
    "        while self.player.is_alive and self.loop_num < 1000:            \n",
    "            self.loop_num += 1\n",
    "            self.loop()\n",
    "        out(\"Game Over\")\n",
    "\n",
    "    def loop(self):\n",
    "        action = inpt(\"What do you want to do?\")\n",
    "        if not action:\n",
    "            self.player.is_alive = False\n",
    "            return\n",
    "        "
   ]
  },
  {
   "cell_type": "markdown",
   "metadata": {},
   "source": [
    "# World Generation"
   ]
  },
  {
   "cell_type": "code",
   "execution_count": 7,
   "metadata": {},
   "outputs": [
    {
     "name": "stdout",
     "output_type": "stream",
     "text": [
      "Dazed, you awaken to find yourself in a large, dank cavern.\n",
      "\n",
      "West is a dragon room. East is a treasure room. \n",
      "\n",
      "In the large cavern you find a torch and a sword.\n"
     ]
    }
   ],
   "source": [
    "def generate_world():\n",
    "    intro = Location(\n",
    "        desc=\"Dazed, you awaken to find yourself in a large, dank cavern. \",\n",
    "        name=\"large cavern\"\n",
    "    )\n",
    "    locn_west = Location(desc=\"\"\"\n",
    "You enter a small cave with a low ceiling. Inside there is a dank smell, and a low, rumbling noise coming from one corner of the room.\n",
    "Wary, you glance over a see a snout poking out from the side of a pile of rocks.\n",
    "\"\"\",\n",
    "                        name=\"dragon room\")\n",
    "    \n",
    "    locn_east = Location(desc=\"\",\n",
    "                        name=\"treasure room\")\n",
    "    \n",
    "    intro.add_west(locn_west)\n",
    "    intro.add_east(locn_east)\n",
    "    \n",
    "    intro.items.append(Item(name=\"torch\"))\n",
    "    intro.items.append(Item(name=\"sword\"))\n",
    "    return intro\n",
    "\n",
    "intro = generate_world()\n",
    "intro.describe()"
   ]
  },
  {
   "cell_type": "code",
   "execution_count": 8,
   "metadata": {},
   "outputs": [
    {
     "name": "stdout",
     "output_type": "stream",
     "text": [
      "move west\n",
      "move east\n",
      "quit\n",
      "Game Over\n"
     ]
    }
   ],
   "source": [
    "input_list = [\n",
    "    \"move west\",\n",
    "    \"move east\",\n",
    "    \"quit\",\n",
    "]\n",
    "\n",
    "game = Game()\n",
    "game.run(intro)"
   ]
  },
  {
   "cell_type": "code",
   "execution_count": null,
   "metadata": {},
   "outputs": [],
   "source": []
  },
  {
   "cell_type": "code",
   "execution_count": null,
   "metadata": {},
   "outputs": [],
   "source": []
  }
 ],
 "metadata": {
  "kernelspec": {
   "display_name": "Python 3 (ipykernel)",
   "language": "python",
   "name": "python3"
  },
  "language_info": {
   "codemirror_mode": {
    "name": "ipython",
    "version": 3
   },
   "file_extension": ".py",
   "mimetype": "text/x-python",
   "name": "python",
   "nbconvert_exporter": "python",
   "pygments_lexer": "ipython3",
   "version": "3.8.12"
  }
 },
 "nbformat": 4,
 "nbformat_minor": 4
}
